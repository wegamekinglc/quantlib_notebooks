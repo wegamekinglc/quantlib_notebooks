{
 "cells": [
  {
   "cell_type": "code",
   "execution_count": 1,
   "metadata": {
    "collapsed": true
   },
   "outputs": [],
   "source": [
    "%matplotlib inline\n",
    "import math\n",
    "import pandas as pd\n",
    "import numpy as np\n",
    "from utils import (\n",
    "    to_dates,\n",
    "    get_spot_rates\n",
    ")\n",
    "import QuantLib as ql\n",
    "import seaborn as sns\n",
    "from matplotlib import pyplot as plt\n",
    "\n",
    "sns.set_style(\"whitegrid\")"
   ]
  },
  {
   "cell_type": "code",
   "execution_count": 2,
   "outputs": [
    {
     "data": {
      "text/plain": " Maturity  Curve\n       6M   5.25\n       1Y   5.50\n     1Y6M   5.75\n       2Y   6.00\n     2Y6M   6.25\n       3Y   6.50\n     3Y6M   6.75\n       4Y   6.80\n     4Y6M   7.00\n       5Y   7.10\n     5Y6M   7.15\n       6Y   7.20\n     6Y6M   7.30\n       7Y   7.35\n     7Y6M   7.40\n       8Y   7.50\n     8Y6M   7.60\n       9Y   7.60\n     9Y6M   7.70\n      10Y   7.80",
      "text/html": "<div>\n<style scoped>\n    .dataframe tbody tr th:only-of-type {\n        vertical-align: middle;\n    }\n\n    .dataframe tbody tr th {\n        vertical-align: top;\n    }\n\n    .dataframe thead th {\n        text-align: right;\n    }\n</style>\n<table border=\"1\" class=\"dataframe\">\n  <thead>\n    <tr style=\"text-align: right;\">\n      <th></th>\n      <th>Maturity</th>\n      <th>Curve</th>\n    </tr>\n  </thead>\n  <tbody>\n    <tr>\n      <th></th>\n      <td>6M</td>\n      <td>5.25</td>\n    </tr>\n    <tr>\n      <th></th>\n      <td>1Y</td>\n      <td>5.50</td>\n    </tr>\n    <tr>\n      <th></th>\n      <td>1Y6M</td>\n      <td>5.75</td>\n    </tr>\n    <tr>\n      <th></th>\n      <td>2Y</td>\n      <td>6.00</td>\n    </tr>\n    <tr>\n      <th></th>\n      <td>2Y6M</td>\n      <td>6.25</td>\n    </tr>\n    <tr>\n      <th></th>\n      <td>3Y</td>\n      <td>6.50</td>\n    </tr>\n    <tr>\n      <th></th>\n      <td>3Y6M</td>\n      <td>6.75</td>\n    </tr>\n    <tr>\n      <th></th>\n      <td>4Y</td>\n      <td>6.80</td>\n    </tr>\n    <tr>\n      <th></th>\n      <td>4Y6M</td>\n      <td>7.00</td>\n    </tr>\n    <tr>\n      <th></th>\n      <td>5Y</td>\n      <td>7.10</td>\n    </tr>\n    <tr>\n      <th></th>\n      <td>5Y6M</td>\n      <td>7.15</td>\n    </tr>\n    <tr>\n      <th></th>\n      <td>6Y</td>\n      <td>7.20</td>\n    </tr>\n    <tr>\n      <th></th>\n      <td>6Y6M</td>\n      <td>7.30</td>\n    </tr>\n    <tr>\n      <th></th>\n      <td>7Y</td>\n      <td>7.35</td>\n    </tr>\n    <tr>\n      <th></th>\n      <td>7Y6M</td>\n      <td>7.40</td>\n    </tr>\n    <tr>\n      <th></th>\n      <td>8Y</td>\n      <td>7.50</td>\n    </tr>\n    <tr>\n      <th></th>\n      <td>8Y6M</td>\n      <td>7.60</td>\n    </tr>\n    <tr>\n      <th></th>\n      <td>9Y</td>\n      <td>7.60</td>\n    </tr>\n    <tr>\n      <th></th>\n      <td>9Y6M</td>\n      <td>7.70</td>\n    </tr>\n    <tr>\n      <th></th>\n      <td>10Y</td>\n      <td>7.80</td>\n    </tr>\n  </tbody>\n</table>\n</div>"
     },
     "execution_count": 2,
     "metadata": {},
     "output_type": "execute_result"
    }
   ],
   "source": [
    "depo_maturities = [ql.Period(6, ql.Months), ql.Period(12, ql.Months)]\n",
    "depo_rates = [5.25, 5.50]\n",
    "\n",
    "# Bond rates\n",
    "bond_maturities = [ql.Period(6 * i, ql.Months) for i in range(3, 21)]\n",
    "bond_rates = [5.75, 6.00, 6.25, 6.50, 6.75, 6.80, 7.00, 7.10, 7.15, 7.20, 7.30,\n",
    "              7.35, 7.40, 7.50, 7.60, 7.60, 7.70, 7.80]\n",
    "\n",
    "maturities = depo_maturities + bond_maturities\n",
    "rates = depo_rates + bond_rates\n",
    "pd.DataFrame(list(zip(maturities, rates)),\n",
    "             columns=[\"Maturity\", \"Curve\"],\n",
    "             index=['']*len(rates))"
   ],
   "metadata": {
    "collapsed": false,
    "pycharm": {
     "name": "#%%\n"
    }
   }
  },
  {
   "cell_type": "code",
   "execution_count": 3,
   "outputs": [],
   "source": [
    "calc_date = ql.Date(15, 1, 2015)\n",
    "ql.Settings.instance().evaluationDate = calc_date\n",
    "\n",
    "calendar = ql.UnitedStates()\n",
    "business_convention = ql.Unadjusted\n",
    "day_count = ql.Thirty360()\n",
    "end_of_month = True\n",
    "settlement_days = 0\n",
    "face_amount = 100\n",
    "coupon_frequency = ql.Period(ql.Semiannual)"
   ],
   "metadata": {
    "collapsed": false,
    "pycharm": {
     "name": "#%%\n"
    }
   }
  },
  {
   "cell_type": "code",
   "execution_count": 4,
   "outputs": [],
   "source": [
    "depo_helpers = [\n",
    "    ql.DepositRateHelper(ql.QuoteHandle(ql.SimpleQuote(r / 100.)),\n",
    "                         m,\n",
    "                         settlement_days,\n",
    "                         calendar,\n",
    "                         business_convention,\n",
    "                         end_of_month,\n",
    "                         day_count)\n",
    "    for r, m in zip(depo_rates, depo_maturities)\n",
    "]"
   ],
   "metadata": {
    "collapsed": false,
    "pycharm": {
     "name": "#%%\n"
    }
   }
  },
  {
   "cell_type": "code",
   "execution_count": 5,
   "outputs": [],
   "source": [
    "bond_helpers = []\n",
    "for r, m in zip(bond_rates, bond_maturities):\n",
    "    termination_date = calc_date + m\n",
    "    schedule = ql.Schedule(calc_date,\n",
    "                           termination_date,\n",
    "                           coupon_frequency,\n",
    "                           calendar,\n",
    "                           business_convention,\n",
    "                           business_convention,\n",
    "                           ql.DateGeneration.Backward,\n",
    "                           end_of_month)\n",
    "    bond_helper = ql.FixedRateBondHelper(ql.QuoteHandle(ql.SimpleQuote(face_amount)),\n",
    "                                         settlement_days,\n",
    "                                         face_amount,\n",
    "                                         schedule,\n",
    "                                         [r / 100.0],\n",
    "                                         day_count,\n",
    "                                         business_convention)\n",
    "    bond_helpers.append(bond_helper)"
   ],
   "metadata": {
    "collapsed": false,
    "pycharm": {
     "name": "#%%\n"
    }
   }
  },
  {
   "cell_type": "code",
   "execution_count": 6,
   "outputs": [],
   "source": [
    "rate_helpers = depo_helpers + bond_helpers"
   ],
   "metadata": {
    "collapsed": false,
    "pycharm": {
     "name": "#%%\n"
    }
   }
  },
  {
   "cell_type": "code",
   "execution_count": 9,
   "outputs": [
    {
     "data": {
      "text/plain": "   Maturity     Curve\n   9.666667  7.981384\n   9.750000  8.005292\n   9.833333  8.028145\n   9.916667  8.050187\n  10.000000  8.071649",
      "text/html": "<div>\n<style scoped>\n    .dataframe tbody tr th:only-of-type {\n        vertical-align: middle;\n    }\n\n    .dataframe tbody tr th {\n        vertical-align: top;\n    }\n\n    .dataframe thead th {\n        text-align: right;\n    }\n</style>\n<table border=\"1\" class=\"dataframe\">\n  <thead>\n    <tr style=\"text-align: right;\">\n      <th></th>\n      <th>Maturity</th>\n      <th>Curve</th>\n    </tr>\n  </thead>\n  <tbody>\n    <tr>\n      <th></th>\n      <td>9.666667</td>\n      <td>7.981384</td>\n    </tr>\n    <tr>\n      <th></th>\n      <td>9.750000</td>\n      <td>8.005292</td>\n    </tr>\n    <tr>\n      <th></th>\n      <td>9.833333</td>\n      <td>8.028145</td>\n    </tr>\n    <tr>\n      <th></th>\n      <td>9.916667</td>\n      <td>8.050187</td>\n    </tr>\n    <tr>\n      <th></th>\n      <td>10.000000</td>\n      <td>8.071649</td>\n    </tr>\n  </tbody>\n</table>\n</div>"
     },
     "execution_count": 9,
     "metadata": {},
     "output_type": "execute_result"
    }
   ],
   "source": [
    "yc_logcubicdiscount = ql.PiecewiseLogCubicDiscount(calc_date,\n",
    "                                                   rate_helpers,\n",
    "                                                   day_count)\n",
    "splcd = get_spot_rates(yc_logcubicdiscount, day_count)\n",
    "splcd.tail()"
   ],
   "metadata": {
    "collapsed": false,
    "pycharm": {
     "name": "#%%\n"
    }
   }
  },
  {
   "cell_type": "code",
   "execution_count": 11,
   "outputs": [
    {
     "data": {
      "text/plain": "   Maturity     Curve\n   9.666667  7.976804\n   9.750000  8.000511\n   9.833333  8.024221\n   9.916667  8.047934\n  10.000000  8.071649",
      "text/html": "<div>\n<style scoped>\n    .dataframe tbody tr th:only-of-type {\n        vertical-align: middle;\n    }\n\n    .dataframe tbody tr th {\n        vertical-align: top;\n    }\n\n    .dataframe thead th {\n        text-align: right;\n    }\n</style>\n<table border=\"1\" class=\"dataframe\">\n  <thead>\n    <tr style=\"text-align: right;\">\n      <th></th>\n      <th>Maturity</th>\n      <th>Curve</th>\n    </tr>\n  </thead>\n  <tbody>\n    <tr>\n      <th></th>\n      <td>9.666667</td>\n      <td>7.976804</td>\n    </tr>\n    <tr>\n      <th></th>\n      <td>9.750000</td>\n      <td>8.000511</td>\n    </tr>\n    <tr>\n      <th></th>\n      <td>9.833333</td>\n      <td>8.024221</td>\n    </tr>\n    <tr>\n      <th></th>\n      <td>9.916667</td>\n      <td>8.047934</td>\n    </tr>\n    <tr>\n      <th></th>\n      <td>10.000000</td>\n      <td>8.071649</td>\n    </tr>\n  </tbody>\n</table>\n</div>"
     },
     "execution_count": 11,
     "metadata": {},
     "output_type": "execute_result"
    }
   ],
   "source": [
    "yc_linearzero = ql.PiecewiseLinearZero(calc_date, rate_helpers, day_count)\n",
    "splz = get_spot_rates(yc_linearzero, day_count)\n",
    "splz.tail()"
   ],
   "metadata": {
    "collapsed": false,
    "pycharm": {
     "name": "#%%\n"
    }
   }
  },
  {
   "cell_type": "code",
   "execution_count": 12,
   "outputs": [
    {
     "data": {
      "text/plain": "   Maturity     Curve\n   9.666667  7.976469\n   9.750000  8.000172\n   9.833333  8.023953\n   9.916667  8.047787\n  10.000000  8.071649",
      "text/html": "<div>\n<style scoped>\n    .dataframe tbody tr th:only-of-type {\n        vertical-align: middle;\n    }\n\n    .dataframe tbody tr th {\n        vertical-align: top;\n    }\n\n    .dataframe thead th {\n        text-align: right;\n    }\n</style>\n<table border=\"1\" class=\"dataframe\">\n  <thead>\n    <tr style=\"text-align: right;\">\n      <th></th>\n      <th>Maturity</th>\n      <th>Curve</th>\n    </tr>\n  </thead>\n  <tbody>\n    <tr>\n      <th></th>\n      <td>9.666667</td>\n      <td>7.976469</td>\n    </tr>\n    <tr>\n      <th></th>\n      <td>9.750000</td>\n      <td>8.000172</td>\n    </tr>\n    <tr>\n      <th></th>\n      <td>9.833333</td>\n      <td>8.023953</td>\n    </tr>\n    <tr>\n      <th></th>\n      <td>9.916667</td>\n      <td>8.047787</td>\n    </tr>\n    <tr>\n      <th></th>\n      <td>10.000000</td>\n      <td>8.071649</td>\n    </tr>\n  </tbody>\n</table>\n</div>"
     },
     "execution_count": 12,
     "metadata": {},
     "output_type": "execute_result"
    }
   ],
   "source": [
    "yc_cubiczero = ql.PiecewiseCubicZero(calc_date, rate_helpers, day_count)\n",
    "spcz = get_spot_rates(yc_cubiczero, day_count)\n",
    "spcz.tail()"
   ],
   "metadata": {
    "collapsed": false,
    "pycharm": {
     "name": "#%%\n"
    }
   }
  },
  {
   "cell_type": "code",
   "execution_count": 15,
   "outputs": [
    {
     "data": {
      "text/plain": "(5.25, 8.0)"
     },
     "execution_count": 15,
     "metadata": {},
     "output_type": "execute_result"
    },
    {
     "data": {
      "text/plain": "<Figure size 1008x504 with 1 Axes>",
      "image/png": "[encoded data removed]"
     },
     "metadata": {},
     "output_type": "display_data"
    }
   ],
   "source": [
    "plt.figure(figsize=(14, 7))\n",
    "plt.plot(splcd[\"Maturity\"], splcd[\"Curve\"], label=\"LogCubicDiscount\")\n",
    "plt.plot(splz[\"Maturity\"], splz[\"Curve\"], \"--\", label=\"LinearZero\")\n",
    "plt.plot(spcz[\"Maturity\"], spcz[\"Curve\"], \"--\", label=\"CubicZero\")\n",
    "plt.xlim((0.5, 10))\n",
    "plt.ylim((5.25, 8.00))"
   ],
   "metadata": {
    "collapsed": false,
    "pycharm": {
     "name": "#%%\n"
    }
   }
  },
  {
   "cell_type": "code",
   "execution_count": 8,
   "outputs": [],
   "source": [],
   "metadata": {
    "collapsed": false,
    "pycharm": {
     "name": "#%%\n"
    }
   }
  },
  {
   "cell_type": "code",
   "execution_count": 8,
   "outputs": [],
   "source": [],
   "metadata": {
    "collapsed": false,
    "pycharm": {
     "name": "#%%\n"
    }
   }
  },
  {
   "cell_type": "code",
   "execution_count": 8,
   "outputs": [],
   "source": [],
   "metadata": {
    "collapsed": false,
    "pycharm": {
     "name": "#%%\n"
    }
   }
  },
  {
   "cell_type": "code",
   "execution_count": 8,
   "outputs": [],
   "source": [],
   "metadata": {
    "collapsed": false,
    "pycharm": {
     "name": "#%%\n"
    }
   }
  },
  {
   "cell_type": "code",
   "execution_count": 8,
   "outputs": [],
   "source": [],
   "metadata": {
    "collapsed": false,
    "pycharm": {
     "name": "#%%\n"
    }
   }
  },
  {
   "cell_type": "code",
   "execution_count": null,
   "outputs": [],
   "source": [],
   "metadata": {
    "collapsed": false,
    "pycharm": {
     "name": "#%%\n"
    }
   }
  }
 ],
 "metadata": {
  "kernelspec": {
   "name": "conda-root-py",
   "language": "python",
   "display_name": "Python [conda env:root] *"
  },
  "language_info": {
   "codemirror_mode": {
    "name": "ipython",
    "version": 2
   },
   "file_extension": ".py",
   "mimetype": "text/x-python",
   "name": "python",
   "nbconvert_exporter": "python",
   "pygments_lexer": "ipython2",
   "version": "2.7.6"
  }
 },
 "nbformat": 4,
 "nbformat_minor": 0
}